{
 "cells": [
  {
   "cell_type": "code",
   "execution_count": 11,
   "id": "initial_id",
   "metadata": {
    "collapsed": true,
    "ExecuteTime": {
     "end_time": "2025-05-09T17:21:39.590600600Z",
     "start_time": "2025-05-09T17:21:39.505660900Z"
    }
   },
   "outputs": [],
   "source": [
    "# In this tutorial, we'll learn how to predict tomorrow's S&P 500 index price using historical data. We'll also learn how to avoid common issues that make most stock price models overfit in the real world.\n",
    "\n",
    "# We'll start by downloading S&P 500 prices using a package called yfinance.  Then, we'll clean up the data with pandas, and get it ready for machine learning.  \n",
    "\n",
    "# We'll train a random forest model and make predictions using backtesting.  Then, we'll improve the model by adding predictors.  We'll end with next steps you can use to improve the model on your own."
   ]
  },
  {
   "cell_type": "code",
   "outputs": [
    {
     "ename": "YFRateLimitError",
     "evalue": "Too Many Requests. Rate limited. Try after a while.",
     "output_type": "error",
     "traceback": [
      "\u001B[31m---------------------------------------------------------------------------\u001B[39m",
      "\u001B[31mYFRateLimitError\u001B[39m                          Traceback (most recent call last)",
      "\u001B[36mCell\u001B[39m\u001B[36m \u001B[39m\u001B[32mIn[12]\u001B[39m\u001B[32m, line 3\u001B[39m\n\u001B[32m      1\u001B[39m \u001B[38;5;28;01mimport\u001B[39;00m\u001B[38;5;250m \u001B[39m\u001B[34;01myfinance\u001B[39;00m\u001B[38;5;250m \u001B[39m\u001B[38;5;28;01mas\u001B[39;00m\u001B[38;5;250m \u001B[39m\u001B[34;01myf\u001B[39;00m\n\u001B[32m      2\u001B[39m sp500 = yf.Ticker(\u001B[33m\"\u001B[39m\u001B[33m^GSPC\u001B[39m\u001B[33m\"\u001B[39m)\n\u001B[32m----> \u001B[39m\u001B[32m3\u001B[39m sp500 = \u001B[43msp500\u001B[49m\u001B[43m.\u001B[49m\u001B[43mhistory\u001B[49m\u001B[43m(\u001B[49m\u001B[43mperiod\u001B[49m\u001B[43m \u001B[49m\u001B[43m=\u001B[49m\u001B[43m \u001B[49m\u001B[33;43m\"\u001B[39;49m\u001B[33;43mmax\u001B[39;49m\u001B[33;43m\"\u001B[39;49m\u001B[43m)\u001B[49m\n\u001B[32m      4\u001B[39m sp500\n",
      "\u001B[36mFile \u001B[39m\u001B[32m~\\PycharmProjects\\Stock Trader\\.venv\\Lib\\site-packages\\yfinance\\utils.py:103\u001B[39m, in \u001B[36mlog_indent_decorator.<locals>.wrapper\u001B[39m\u001B[34m(*args, **kwargs)\u001B[39m\n\u001B[32m    100\u001B[39m logger.debug(\u001B[33mf\u001B[39m\u001B[33m'\u001B[39m\u001B[33mEntering \u001B[39m\u001B[38;5;132;01m{\u001B[39;00mfunc.\u001B[34m__name__\u001B[39m\u001B[38;5;132;01m}\u001B[39;00m\u001B[33m()\u001B[39m\u001B[33m'\u001B[39m)\n\u001B[32m    102\u001B[39m \u001B[38;5;28;01mwith\u001B[39;00m IndentationContext():\n\u001B[32m--> \u001B[39m\u001B[32m103\u001B[39m     result = \u001B[43mfunc\u001B[49m\u001B[43m(\u001B[49m\u001B[43m*\u001B[49m\u001B[43margs\u001B[49m\u001B[43m,\u001B[49m\u001B[43m \u001B[49m\u001B[43m*\u001B[49m\u001B[43m*\u001B[49m\u001B[43mkwargs\u001B[49m\u001B[43m)\u001B[49m\n\u001B[32m    105\u001B[39m logger.debug(\u001B[33mf\u001B[39m\u001B[33m'\u001B[39m\u001B[33mExiting \u001B[39m\u001B[38;5;132;01m{\u001B[39;00mfunc.\u001B[34m__name__\u001B[39m\u001B[38;5;132;01m}\u001B[39;00m\u001B[33m()\u001B[39m\u001B[33m'\u001B[39m)\n\u001B[32m    106\u001B[39m \u001B[38;5;28;01mreturn\u001B[39;00m result\n",
      "\u001B[36mFile \u001B[39m\u001B[32m~\\PycharmProjects\\Stock Trader\\.venv\\Lib\\site-packages\\yfinance\\base.py:91\u001B[39m, in \u001B[36mTickerBase.history\u001B[39m\u001B[34m(self, *args, **kwargs)\u001B[39m\n\u001B[32m     89\u001B[39m \u001B[38;5;129m@utils\u001B[39m.log_indent_decorator\n\u001B[32m     90\u001B[39m \u001B[38;5;28;01mdef\u001B[39;00m\u001B[38;5;250m \u001B[39m\u001B[34mhistory\u001B[39m(\u001B[38;5;28mself\u001B[39m, *args, **kwargs) -> pd.DataFrame:\n\u001B[32m---> \u001B[39m\u001B[32m91\u001B[39m     \u001B[38;5;28;01mreturn\u001B[39;00m \u001B[38;5;28;43mself\u001B[39;49m\u001B[43m.\u001B[49m\u001B[43m_lazy_load_price_history\u001B[49m\u001B[43m(\u001B[49m\u001B[43m)\u001B[49m.history(*args, **kwargs)\n",
      "\u001B[36mFile \u001B[39m\u001B[32m~\\PycharmProjects\\Stock Trader\\.venv\\Lib\\site-packages\\yfinance\\base.py:97\u001B[39m, in \u001B[36mTickerBase._lazy_load_price_history\u001B[39m\u001B[34m(self)\u001B[39m\n\u001B[32m     95\u001B[39m \u001B[38;5;28;01mdef\u001B[39;00m\u001B[38;5;250m \u001B[39m\u001B[34m_lazy_load_price_history\u001B[39m(\u001B[38;5;28mself\u001B[39m):\n\u001B[32m     96\u001B[39m     \u001B[38;5;28;01mif\u001B[39;00m \u001B[38;5;28mself\u001B[39m._price_history \u001B[38;5;129;01mis\u001B[39;00m \u001B[38;5;28;01mNone\u001B[39;00m:\n\u001B[32m---> \u001B[39m\u001B[32m97\u001B[39m         \u001B[38;5;28mself\u001B[39m._price_history = PriceHistory(\u001B[38;5;28mself\u001B[39m._data, \u001B[38;5;28mself\u001B[39m.ticker, \u001B[38;5;28;43mself\u001B[39;49m\u001B[43m.\u001B[49m\u001B[43m_get_ticker_tz\u001B[49m\u001B[43m(\u001B[49m\u001B[43mtimeout\u001B[49m\u001B[43m=\u001B[49m\u001B[32;43m10\u001B[39;49m\u001B[43m)\u001B[49m)\n\u001B[32m     98\u001B[39m     \u001B[38;5;28;01mreturn\u001B[39;00m \u001B[38;5;28mself\u001B[39m._price_history\n",
      "\u001B[36mFile \u001B[39m\u001B[32m~\\PycharmProjects\\Stock Trader\\.venv\\Lib\\site-packages\\yfinance\\base.py:112\u001B[39m, in \u001B[36mTickerBase._get_ticker_tz\u001B[39m\u001B[34m(self, timeout)\u001B[39m\n\u001B[32m    109\u001B[39m     tz = \u001B[38;5;28;01mNone\u001B[39;00m\n\u001B[32m    111\u001B[39m \u001B[38;5;28;01mif\u001B[39;00m tz \u001B[38;5;129;01mis\u001B[39;00m \u001B[38;5;28;01mNone\u001B[39;00m:\n\u001B[32m--> \u001B[39m\u001B[32m112\u001B[39m     tz = \u001B[38;5;28;43mself\u001B[39;49m\u001B[43m.\u001B[49m\u001B[43m_fetch_ticker_tz\u001B[49m\u001B[43m(\u001B[49m\u001B[43mtimeout\u001B[49m\u001B[43m)\u001B[49m\n\u001B[32m    113\u001B[39m     \u001B[38;5;28;01mif\u001B[39;00m tz \u001B[38;5;129;01mis\u001B[39;00m \u001B[38;5;28;01mNone\u001B[39;00m:\n\u001B[32m    114\u001B[39m         \u001B[38;5;66;03m# _fetch_ticker_tz works in 99.999% of cases.\u001B[39;00m\n\u001B[32m    115\u001B[39m         \u001B[38;5;66;03m# For rare fail get from info.\u001B[39;00m\n\u001B[32m    116\u001B[39m         \u001B[38;5;28;01mglobal\u001B[39;00m _tz_info_fetch_ctr\n",
      "\u001B[36mFile \u001B[39m\u001B[32m~\\PycharmProjects\\Stock Trader\\.venv\\Lib\\site-packages\\yfinance\\utils.py:103\u001B[39m, in \u001B[36mlog_indent_decorator.<locals>.wrapper\u001B[39m\u001B[34m(*args, **kwargs)\u001B[39m\n\u001B[32m    100\u001B[39m logger.debug(\u001B[33mf\u001B[39m\u001B[33m'\u001B[39m\u001B[33mEntering \u001B[39m\u001B[38;5;132;01m{\u001B[39;00mfunc.\u001B[34m__name__\u001B[39m\u001B[38;5;132;01m}\u001B[39;00m\u001B[33m()\u001B[39m\u001B[33m'\u001B[39m)\n\u001B[32m    102\u001B[39m \u001B[38;5;28;01mwith\u001B[39;00m IndentationContext():\n\u001B[32m--> \u001B[39m\u001B[32m103\u001B[39m     result = \u001B[43mfunc\u001B[49m\u001B[43m(\u001B[49m\u001B[43m*\u001B[49m\u001B[43margs\u001B[49m\u001B[43m,\u001B[49m\u001B[43m \u001B[49m\u001B[43m*\u001B[49m\u001B[43m*\u001B[49m\u001B[43mkwargs\u001B[49m\u001B[43m)\u001B[49m\n\u001B[32m    105\u001B[39m logger.debug(\u001B[33mf\u001B[39m\u001B[33m'\u001B[39m\u001B[33mExiting \u001B[39m\u001B[38;5;132;01m{\u001B[39;00mfunc.\u001B[34m__name__\u001B[39m\u001B[38;5;132;01m}\u001B[39;00m\u001B[33m()\u001B[39m\u001B[33m'\u001B[39m)\n\u001B[32m    106\u001B[39m \u001B[38;5;28;01mreturn\u001B[39;00m result\n",
      "\u001B[36mFile \u001B[39m\u001B[32m~\\PycharmProjects\\Stock Trader\\.venv\\Lib\\site-packages\\yfinance\\base.py:144\u001B[39m, in \u001B[36mTickerBase._fetch_ticker_tz\u001B[39m\u001B[34m(self, timeout)\u001B[39m\n\u001B[32m    141\u001B[39m url = \u001B[33mf\u001B[39m\u001B[33m\"\u001B[39m\u001B[38;5;132;01m{\u001B[39;00m_BASE_URL_\u001B[38;5;132;01m}\u001B[39;00m\u001B[33m/v8/finance/chart/\u001B[39m\u001B[38;5;132;01m{\u001B[39;00m\u001B[38;5;28mself\u001B[39m.ticker\u001B[38;5;132;01m}\u001B[39;00m\u001B[33m\"\u001B[39m\n\u001B[32m    143\u001B[39m \u001B[38;5;28;01mtry\u001B[39;00m:\n\u001B[32m--> \u001B[39m\u001B[32m144\u001B[39m     data = \u001B[38;5;28;43mself\u001B[39;49m\u001B[43m.\u001B[49m\u001B[43m_data\u001B[49m\u001B[43m.\u001B[49m\u001B[43mcache_get\u001B[49m\u001B[43m(\u001B[49m\u001B[43murl\u001B[49m\u001B[43m=\u001B[49m\u001B[43murl\u001B[49m\u001B[43m,\u001B[49m\u001B[43m \u001B[49m\u001B[43mparams\u001B[49m\u001B[43m=\u001B[49m\u001B[43mparams\u001B[49m\u001B[43m,\u001B[49m\u001B[43m \u001B[49m\u001B[43mtimeout\u001B[49m\u001B[43m=\u001B[49m\u001B[43mtimeout\u001B[49m\u001B[43m)\u001B[49m\n\u001B[32m    145\u001B[39m     data = data.json()\n\u001B[32m    146\u001B[39m \u001B[38;5;28;01mexcept\u001B[39;00m YFRateLimitError:\n\u001B[32m    147\u001B[39m     \u001B[38;5;66;03m# Must propagate this\u001B[39;00m\n",
      "\u001B[36mFile \u001B[39m\u001B[32m~\\PycharmProjects\\Stock Trader\\.venv\\Lib\\site-packages\\yfinance\\data.py:32\u001B[39m, in \u001B[36mlru_cache_freezeargs.<locals>.wrapped\u001B[39m\u001B[34m(*args, **kwargs)\u001B[39m\n\u001B[32m     30\u001B[39m args = \u001B[38;5;28mtuple\u001B[39m([\u001B[38;5;28mtuple\u001B[39m(arg) \u001B[38;5;28;01mif\u001B[39;00m \u001B[38;5;28misinstance\u001B[39m(arg, \u001B[38;5;28mlist\u001B[39m) \u001B[38;5;28;01melse\u001B[39;00m arg \u001B[38;5;28;01mfor\u001B[39;00m arg \u001B[38;5;129;01min\u001B[39;00m args])\n\u001B[32m     31\u001B[39m kwargs = {k: \u001B[38;5;28mtuple\u001B[39m(v) \u001B[38;5;28;01mif\u001B[39;00m \u001B[38;5;28misinstance\u001B[39m(v, \u001B[38;5;28mlist\u001B[39m) \u001B[38;5;28;01melse\u001B[39;00m v \u001B[38;5;28;01mfor\u001B[39;00m k, v \u001B[38;5;129;01min\u001B[39;00m kwargs.items()}\n\u001B[32m---> \u001B[39m\u001B[32m32\u001B[39m \u001B[38;5;28;01mreturn\u001B[39;00m \u001B[43mfunc\u001B[49m\u001B[43m(\u001B[49m\u001B[43m*\u001B[49m\u001B[43margs\u001B[49m\u001B[43m,\u001B[49m\u001B[43m \u001B[49m\u001B[43m*\u001B[49m\u001B[43m*\u001B[49m\u001B[43mkwargs\u001B[49m\u001B[43m)\u001B[49m\n",
      "\u001B[36mFile \u001B[39m\u001B[32m~\\PycharmProjects\\Stock Trader\\.venv\\Lib\\site-packages\\yfinance\\data.py:431\u001B[39m, in \u001B[36mYfData.cache_get\u001B[39m\u001B[34m(self, url, user_agent_headers, params, timeout)\u001B[39m\n\u001B[32m    428\u001B[39m \u001B[38;5;129m@lru_cache_freezeargs\u001B[39m\n\u001B[32m    429\u001B[39m \u001B[38;5;129m@lru_cache\u001B[39m(maxsize=cache_maxsize)\n\u001B[32m    430\u001B[39m \u001B[38;5;28;01mdef\u001B[39;00m\u001B[38;5;250m \u001B[39m\u001B[34mcache_get\u001B[39m(\u001B[38;5;28mself\u001B[39m, url, user_agent_headers=\u001B[38;5;28;01mNone\u001B[39;00m, params=\u001B[38;5;28;01mNone\u001B[39;00m, timeout=\u001B[32m30\u001B[39m):\n\u001B[32m--> \u001B[39m\u001B[32m431\u001B[39m     \u001B[38;5;28;01mreturn\u001B[39;00m \u001B[38;5;28;43mself\u001B[39;49m\u001B[43m.\u001B[49m\u001B[43mget\u001B[49m\u001B[43m(\u001B[49m\u001B[43murl\u001B[49m\u001B[43m,\u001B[49m\u001B[43m \u001B[49m\u001B[43muser_agent_headers\u001B[49m\u001B[43m,\u001B[49m\u001B[43m \u001B[49m\u001B[43mparams\u001B[49m\u001B[43m,\u001B[49m\u001B[43m \u001B[49m\u001B[43mtimeout\u001B[49m\u001B[43m)\u001B[49m\n",
      "\u001B[36mFile \u001B[39m\u001B[32m~\\PycharmProjects\\Stock Trader\\.venv\\Lib\\site-packages\\yfinance\\utils.py:103\u001B[39m, in \u001B[36mlog_indent_decorator.<locals>.wrapper\u001B[39m\u001B[34m(*args, **kwargs)\u001B[39m\n\u001B[32m    100\u001B[39m logger.debug(\u001B[33mf\u001B[39m\u001B[33m'\u001B[39m\u001B[33mEntering \u001B[39m\u001B[38;5;132;01m{\u001B[39;00mfunc.\u001B[34m__name__\u001B[39m\u001B[38;5;132;01m}\u001B[39;00m\u001B[33m()\u001B[39m\u001B[33m'\u001B[39m)\n\u001B[32m    102\u001B[39m \u001B[38;5;28;01mwith\u001B[39;00m IndentationContext():\n\u001B[32m--> \u001B[39m\u001B[32m103\u001B[39m     result = \u001B[43mfunc\u001B[49m\u001B[43m(\u001B[49m\u001B[43m*\u001B[49m\u001B[43margs\u001B[49m\u001B[43m,\u001B[49m\u001B[43m \u001B[49m\u001B[43m*\u001B[49m\u001B[43m*\u001B[49m\u001B[43mkwargs\u001B[49m\u001B[43m)\u001B[49m\n\u001B[32m    105\u001B[39m logger.debug(\u001B[33mf\u001B[39m\u001B[33m'\u001B[39m\u001B[33mExiting \u001B[39m\u001B[38;5;132;01m{\u001B[39;00mfunc.\u001B[34m__name__\u001B[39m\u001B[38;5;132;01m}\u001B[39;00m\u001B[33m()\u001B[39m\u001B[33m'\u001B[39m)\n\u001B[32m    106\u001B[39m \u001B[38;5;28;01mreturn\u001B[39;00m result\n",
      "\u001B[36mFile \u001B[39m\u001B[32m~\\PycharmProjects\\Stock Trader\\.venv\\Lib\\site-packages\\yfinance\\data.py:364\u001B[39m, in \u001B[36mYfData.get\u001B[39m\u001B[34m(self, url, user_agent_headers, params, timeout)\u001B[39m\n\u001B[32m    362\u001B[39m \u001B[38;5;129m@utils\u001B[39m.log_indent_decorator\n\u001B[32m    363\u001B[39m \u001B[38;5;28;01mdef\u001B[39;00m\u001B[38;5;250m \u001B[39m\u001B[34mget\u001B[39m(\u001B[38;5;28mself\u001B[39m, url, user_agent_headers=\u001B[38;5;28;01mNone\u001B[39;00m, params=\u001B[38;5;28;01mNone\u001B[39;00m, timeout=\u001B[32m30\u001B[39m):\n\u001B[32m--> \u001B[39m\u001B[32m364\u001B[39m     \u001B[38;5;28;01mreturn\u001B[39;00m \u001B[38;5;28;43mself\u001B[39;49m\u001B[43m.\u001B[49m\u001B[43m_make_request\u001B[49m\u001B[43m(\u001B[49m\u001B[43murl\u001B[49m\u001B[43m,\u001B[49m\u001B[43m \u001B[49m\u001B[43mrequest_method\u001B[49m\u001B[43m \u001B[49m\u001B[43m=\u001B[49m\u001B[43m \u001B[49m\u001B[38;5;28;43mself\u001B[39;49m\u001B[43m.\u001B[49m\u001B[43m_session\u001B[49m\u001B[43m.\u001B[49m\u001B[43mget\u001B[49m\u001B[43m,\u001B[49m\u001B[43m \u001B[49m\u001B[43muser_agent_headers\u001B[49m\u001B[43m=\u001B[49m\u001B[43muser_agent_headers\u001B[49m\u001B[43m,\u001B[49m\u001B[43m \u001B[49m\u001B[43mparams\u001B[49m\u001B[43m=\u001B[49m\u001B[43mparams\u001B[49m\u001B[43m,\u001B[49m\u001B[43m \u001B[49m\u001B[43mtimeout\u001B[49m\u001B[43m=\u001B[49m\u001B[43mtimeout\u001B[49m\u001B[43m)\u001B[49m\n",
      "\u001B[36mFile \u001B[39m\u001B[32m~\\PycharmProjects\\Stock Trader\\.venv\\Lib\\site-packages\\yfinance\\utils.py:103\u001B[39m, in \u001B[36mlog_indent_decorator.<locals>.wrapper\u001B[39m\u001B[34m(*args, **kwargs)\u001B[39m\n\u001B[32m    100\u001B[39m logger.debug(\u001B[33mf\u001B[39m\u001B[33m'\u001B[39m\u001B[33mEntering \u001B[39m\u001B[38;5;132;01m{\u001B[39;00mfunc.\u001B[34m__name__\u001B[39m\u001B[38;5;132;01m}\u001B[39;00m\u001B[33m()\u001B[39m\u001B[33m'\u001B[39m)\n\u001B[32m    102\u001B[39m \u001B[38;5;28;01mwith\u001B[39;00m IndentationContext():\n\u001B[32m--> \u001B[39m\u001B[32m103\u001B[39m     result = \u001B[43mfunc\u001B[49m\u001B[43m(\u001B[49m\u001B[43m*\u001B[49m\u001B[43margs\u001B[49m\u001B[43m,\u001B[49m\u001B[43m \u001B[49m\u001B[43m*\u001B[49m\u001B[43m*\u001B[49m\u001B[43mkwargs\u001B[49m\u001B[43m)\u001B[49m\n\u001B[32m    105\u001B[39m logger.debug(\u001B[33mf\u001B[39m\u001B[33m'\u001B[39m\u001B[33mExiting \u001B[39m\u001B[38;5;132;01m{\u001B[39;00mfunc.\u001B[34m__name__\u001B[39m\u001B[38;5;132;01m}\u001B[39;00m\u001B[33m()\u001B[39m\u001B[33m'\u001B[39m)\n\u001B[32m    106\u001B[39m \u001B[38;5;28;01mreturn\u001B[39;00m result\n",
      "\u001B[36mFile \u001B[39m\u001B[32m~\\PycharmProjects\\Stock Trader\\.venv\\Lib\\site-packages\\yfinance\\data.py:424\u001B[39m, in \u001B[36mYfData._make_request\u001B[39m\u001B[34m(self, url, request_method, user_agent_headers, body, params, timeout)\u001B[39m\n\u001B[32m    422\u001B[39m     \u001B[38;5;66;03m# Raise exception if rate limited\u001B[39;00m\n\u001B[32m    423\u001B[39m     \u001B[38;5;28;01mif\u001B[39;00m response.status_code == \u001B[32m429\u001B[39m:\n\u001B[32m--> \u001B[39m\u001B[32m424\u001B[39m         \u001B[38;5;28;01mraise\u001B[39;00m YFRateLimitError()\n\u001B[32m    426\u001B[39m \u001B[38;5;28;01mreturn\u001B[39;00m response\n",
      "\u001B[31mYFRateLimitError\u001B[39m: Too Many Requests. Rate limited. Try after a while."
     ]
    }
   ],
   "source": [
    "import yfinance as yf\n",
    "sp500 = yf.Ticker(\"^GSPC\")\n",
    "sp500 = sp500.history(period = \"max\")\n",
    "sp500"
   ],
   "metadata": {
    "collapsed": false,
    "ExecuteTime": {
     "end_time": "2025-05-09T17:21:41.534586500Z",
     "start_time": "2025-05-09T17:21:39.559631700Z"
    }
   },
   "id": "bff27f99ce3700f6",
   "execution_count": 12
  },
  {
   "cell_type": "code",
   "outputs": [],
   "source": [
    "sp500.index #column allows us to index and slice the dataframe easily"
   ],
   "metadata": {
    "collapsed": false,
    "ExecuteTime": {
     "start_time": "2025-05-09T17:21:41.466680900Z"
    }
   },
   "id": "94dc70b60f33f161"
  },
  {
   "cell_type": "code",
   "outputs": [],
   "source": [
    "sp500.plot.line(y=\"Close\", use_index=True)"
   ],
   "metadata": {
    "collapsed": false,
    "ExecuteTime": {
     "start_time": "2025-05-09T17:21:41.469073300Z"
    }
   },
   "id": "a9fe14990802990f"
  },
  {
   "cell_type": "code",
   "outputs": [],
   "source": [
    "del sp500[\"Dividends\"]\n",
    "del sp500[\"Stock Splits\"] #these columns are appropriate for individual stocks, not an index, so we don't actually need them"
   ],
   "metadata": {
    "collapsed": false,
    "ExecuteTime": {
     "start_time": "2025-05-09T17:21:41.473724500Z"
    }
   },
   "id": "7548a3f4fc2e31a5"
  },
  {
   "cell_type": "code",
   "outputs": [],
   "source": [
    "# Some people try to predict the exact stock price, like whether it will be $17 or $18 tomorrow. But even if you're good at that, you can still lose money. What really matters when trading is not the exact price, but whether the price will go up or down. You could predict the price closely and still be wrong about the direction, which is what actually affects profits."
   ],
   "metadata": {
    "collapsed": false,
    "ExecuteTime": {
     "start_time": "2025-05-09T17:21:41.476805600Z"
    }
   },
   "id": "6895ebaf1b410863"
  },
  {
   "cell_type": "code",
   "outputs": [],
   "source": [
    "sp500[\"Tomorrow\"] = sp500[\"Close\"].shift(-1)\n",
    "sp500"
   ],
   "metadata": {
    "collapsed": false,
    "ExecuteTime": {
     "start_time": "2025-05-09T17:21:41.479166700Z"
    }
   },
   "id": "36f009f77b53fb29"
  },
  {
   "cell_type": "code",
   "outputs": [],
   "source": [
    "sp500[\"Target\"] = (sp500[\"Tomorrow\"] > sp500[\"Close\"]).astype(int)\n",
    "sp500\n",
    "# Target is set up by comparing tomorrow's price and today's price (is tomorrow's price > today's price?) then converted to int for ML"
   ],
   "metadata": {
    "collapsed": false,
    "ExecuteTime": {
     "start_time": "2025-05-09T17:21:41.482137200Z"
    }
   },
   "id": "9ec7dcf7d33e8892"
  },
  {
   "cell_type": "code",
   "outputs": [],
   "source": [
    "#with stock market data, the bulk data may not be great since the market might have shifted fundamentally years ago, so we'll remove all the historical data before 1990\n",
    "sp500 = sp500.loc[\"1990-01-01\":].copy()\n",
    "# If you don't put .copy(), you can something get a Pandas setting with copy warning when you try to subset a dataframe and then later assign back to it"
   ],
   "metadata": {
    "collapsed": false,
    "ExecuteTime": {
     "start_time": "2025-05-09T17:21:41.485944400Z"
    }
   },
   "id": "f5d854d1f06b5c98"
  },
  {
   "cell_type": "code",
   "outputs": [],
   "source": [
    "# A RandomForestClassifier is a great default model for most ML because \n",
    "# 1) random forests work by training a bunch of individual decision trees with randomized params and then avg those results from those decision trees, thus they're resistant to overfitting\n",
    "# 2) run relatively quickly\n",
    "# 3) they can pick up non-linear tendencies in the data\n",
    "\n",
    "# n_estimators is the number of individual decision trees we wanna train, the higher it is, general the better accuracy (up to a point), but we'll set it low so we can run the prog quickly\n",
    "# min_samples_split helps us protect against overfitting, decision trees have a tendency to overfit if they built the tree too deeply, ***the higher we set it, the less accurate the model will be, but the less it will overfit\n",
    "# setting a random_state means that if we run the same model twice, the random numbers that are generated will be in a predictable sequence each time, using this random seed of 1. So, if we re-run the model twice, we'll get the same results, (which helps if you're updating or improving you're model and you wanna make sure it's actually the model or something you did that improved an error vs just something random\n",
    "from sklearn.ensemble import RandomForestClassifier\n",
    "model = RandomForestClassifier(n_estimators= 100, min_samples_split=100, random_state=1)\n",
    "train = sp500.iloc[:-100]\n",
    "test = sp500.iloc[-100:]\n",
    "\n",
    "predictors = [\"Open\", \"High\", \"Low\", \"Close\", \"Volume\"]\n",
    "model.fit(train[predictors], train[\"Target\"])"
   ],
   "metadata": {
    "collapsed": false,
    "ExecuteTime": {
     "start_time": "2025-05-09T17:21:41.491510300Z"
    }
   },
   "id": "da641f74b6e1b492",
   "execution_count": null
  },
  {
   "cell_type": "code",
   "outputs": [],
   "source": [
    "from sklearn.metrics import precision_score\n",
    "import pandas as pd\n",
    "\n",
    "predictions = model.predict(test[predictors])\n",
    "predictions = pd.Series(predictions, index = test.index)"
   ],
   "metadata": {
    "collapsed": false,
    "ExecuteTime": {
     "start_time": "2025-05-09T17:21:41.491510300Z"
    }
   },
   "id": "c96d0034ecdc3605"
  },
  {
   "cell_type": "code",
   "outputs": [],
   "source": [
    "precision_score(test[\"Target\"], predictions)"
   ],
   "metadata": {
    "collapsed": false,
    "ExecuteTime": {
     "start_time": "2025-05-09T17:21:41.493020900Z"
    }
   },
   "id": "84a95d44c1f2c9ba"
  },
  {
   "cell_type": "code",
   "outputs": [],
   "source": [
    "combined = pd.concat([test[\"Target\"], predictions], axis = 1)\n",
    "combined.plot()"
   ],
   "metadata": {
    "collapsed": false,
    "ExecuteTime": {
     "start_time": "2025-05-09T17:21:41.495326Z"
    }
   },
   "id": "94110751f3f220b0"
  },
  {
   "cell_type": "code",
   "outputs": [],
   "source": [
    "#building a backtesting system\n",
    "def predict(train, test, predictors, model):\n",
    "    model.fit(train[predictors], train[\"Target\"])\n",
    "    predictions = model.predict(test[predictors])\n",
    "    predictions = pd.Series(predictions, index = test.index, name = \"Predictions\")\n",
    "    combined = pd.concat([test[\"Target\"], predictions], axis = 1)\n",
    "    return combined"
   ],
   "metadata": {
    "collapsed": false,
    "ExecuteTime": {
     "start_time": "2025-05-09T17:21:41.497884Z"
    }
   },
   "id": "27aee6baf9e09510"
  },
  {
   "cell_type": "code",
   "outputs": [],
   "source": [
    "# start - when you backtest you want to have a certain amount of data to train your first model. So every trading year has around 250 days, so what start is saying is \"take 10 years of data and then train your first model with that data\"\n",
    "# step - means that we will be training a model for about a year (250 days), and then increasing by 1 year\n",
    "def backtest(data, model, predictors, start=2500, step=250):\n",
    "    all_predictions = []\n",
    "    for i in range(start, data.shape[0], step):\n",
    "        train = data.iloc[0:i].copy()\n",
    "        test = data.iloc[i:(i + step)].copy()\n",
    "        preds = predict(train, test, predictors, model)\n",
    "        all_predictions.append(preds)\n",
    "    return pd.concat(all_predictions)"
   ],
   "metadata": {
    "collapsed": false,
    "ExecuteTime": {
     "start_time": "2025-05-09T17:21:41.502404700Z"
    }
   },
   "id": "9fbe48084061ecdc"
  },
  {
   "cell_type": "code",
   "outputs": [],
   "source": [
    "preds = backtest(sp500, model, predictors)"
   ],
   "metadata": {
    "collapsed": false,
    "ExecuteTime": {
     "start_time": "2025-05-09T17:21:41.504684600Z"
    }
   },
   "id": "f98ae719124e653"
  },
  {
   "cell_type": "code",
   "outputs": [],
   "source": [
    "#evaluating error of predictions\n",
    "preds[\"Predictions\"].value_counts()\n",
    "precision_score(preds[\"Target\"], preds[\"Predictions\"])\n",
    "preds[\"Target\"].value_counts() / preds.shape[0]"
   ],
   "metadata": {
    "collapsed": false,
    "ExecuteTime": {
     "start_time": "2025-05-09T17:21:41.504684600Z"
    }
   },
   "id": "a9fe4a634adc7540"
  },
  {
   "cell_type": "code",
   "outputs": [],
   "source": [
    "horizons = [2, 5, 60, 250, 1000]\n",
    "new_predictors = []\n",
    "for horizon in horizons:\n",
    "    rolling_averages = sp500.rolling(horizon).mean()\n",
    "    ratio_column = f\"Close_ratio_{horizon}\"\n",
    "    sp500[ratio_column] = sp500[\"Close\"] / rolling_averages[\"Close\"]\n",
    "    \n",
    "    trend_column = f\"Trend_{horizon}\"\n",
    "    sp500[trend_column] = sp500.shift(1).rolling(horizon).sum()[\"Target\"]\n",
    "    \n",
    "    new_predictors += [ratio_column, trend_column]"
   ],
   "metadata": {
    "collapsed": false,
    "ExecuteTime": {
     "start_time": "2025-05-09T17:21:41.507321800Z"
    }
   },
   "id": "95d4499c5e977b79"
  },
  {
   "cell_type": "code",
   "outputs": [],
   "source": [
    "sp500"
   ],
   "metadata": {
    "collapsed": false,
    "ExecuteTime": {
     "start_time": "2025-05-09T17:21:41.508352300Z"
    }
   },
   "id": "4df742f1bebdb9fb"
  },
  {
   "cell_type": "code",
   "outputs": [],
   "source": [
    "sp500 = sp500.dropna()\n",
    "sp500"
   ],
   "metadata": {
    "collapsed": false,
    "ExecuteTime": {
     "start_time": "2025-05-09T17:21:41.509962600Z"
    }
   },
   "id": "de20ffe89c1af9f6"
  },
  {
   "cell_type": "code",
   "outputs": [],
   "source": [
    "#improving our model\n",
    "model = RandomForestClassifier(n_estimators=200, min_samples_split=50, random_state=1)"
   ],
   "metadata": {
    "collapsed": false,
    "ExecuteTime": {
     "start_time": "2025-05-09T17:21:41.512851800Z"
    }
   },
   "id": "137571bb40bec745"
  },
  {
   "cell_type": "code",
   "outputs": [],
   "source": [
    "def predict(train, test, predictors, model):\n",
    "    model.fit(train[predictors], train[\"Target\"])\n",
    "    predictions = model.predict_proba(test[predictors])[:,1]\n",
    "    predictions[predictions >= 0.6] = 1\n",
    "    predictions[predictions < 0.6] = 0\n",
    "    predictions = pd.Series(predictions, index = test.index, name = \"Predictions\")\n",
    "    combined = pd.concat([test[\"Target\"], predictions], axis = 1)\n",
    "    return combined"
   ],
   "metadata": {
    "collapsed": false,
    "ExecuteTime": {
     "start_time": "2025-05-09T17:21:41.514366300Z"
    }
   },
   "id": "3188cede6e6a8ca1"
  },
  {
   "cell_type": "code",
   "outputs": [],
   "source": [
    "predictions = backtest(sp500, model, new_predictors)\n",
    "predictions[\"Predictions\"].value_counts()\n",
    "precision_score(predictions[\"Target\"], predictions[\"Predictions\"])"
   ],
   "metadata": {
    "collapsed": false,
    "ExecuteTime": {
     "start_time": "2025-05-09T17:21:41.516613300Z"
    }
   },
   "id": "dcd075c649d42a2f"
  }
 ],
 "metadata": {
  "kernelspec": {
   "display_name": "Python 3",
   "language": "python",
   "name": "python3"
  },
  "language_info": {
   "codemirror_mode": {
    "name": "ipython",
    "version": 2
   },
   "file_extension": ".py",
   "mimetype": "text/x-python",
   "name": "python",
   "nbconvert_exporter": "python",
   "pygments_lexer": "ipython2",
   "version": "2.7.6"
  }
 },
 "nbformat": 4,
 "nbformat_minor": 5
}
